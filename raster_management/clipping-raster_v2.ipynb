{
 "cells": [
  {
   "attachments": {},
   "cell_type": "markdown",
   "metadata": {},
   "source": [
    "We are going to clip some rasters into a big mosaic. \n",
    "- Make sure the import is multiple or simple\n",
    "- if multiple set the folder where all the layers are\n",
    "- do the clipping into a created folder of the same name"
   ]
  },
  {
   "cell_type": "code",
   "execution_count": 1,
   "metadata": {},
   "outputs": [],
   "source": [
    "#Import the libraries\n",
    "import os\n",
    "import sys\n",
    "from osgeo import gdal\n",
    "import numpy as np\n",
    "import glob\n",
    "\n",
    "\n",
    "gdal.UseExceptions()"
   ]
  },
  {
   "cell_type": "code",
   "execution_count": 4,
   "metadata": {},
   "outputs": [],
   "source": [
    "\"\"\"Set folder main location\"\"\"\n",
    "path = r\"Z:\\demo-geo-stack\\geoserver\\data\\rini\\population\""
   ]
  },
  {
   "cell_type": "code",
   "execution_count": 6,
   "metadata": {},
   "outputs": [
    {
     "name": "stdout",
     "output_type": "stream",
     "text": [
      "['usa_pop_tot_wgs84_comp.tif', 'usa_pop_tot_wgs84_comp_1.tif']\n"
     ]
    }
   ],
   "source": [
    "\"\"\"Get a list of the files inside the folder\"\"\"\n",
    "File_list = [] #f for f in os.listdir(path) if os.isfile(mypath,f)\n",
    "for file in os.listdir(path):\n",
    "    if file.endswith(\".tif\"):\n",
    "        if file not in File_list:\n",
    "            File_list.append(file)\n",
    "    else:\n",
    "        pass\n",
    "print(File_list)"
   ]
  },
  {
   "cell_type": "code",
   "execution_count": 7,
   "metadata": {},
   "outputs": [
    {
     "name": "stdout",
     "output_type": "stream",
     "text": [
      "['usa_pop_tot_wgs84_comp_1.tif']\n"
     ]
    }
   ],
   "source": [
    "print(File_list[1:])"
   ]
  },
  {
   "cell_type": "code",
   "execution_count": null,
   "metadata": {},
   "outputs": [],
   "source": [
    "\"\"\"Do the clipping of the file\"\"\"\n",
    "\n",
    "\"\"\"We locate ourselves in our working directory\"\"\"\n",
    "os.chdir(path)\n",
    "\n",
    "\"\"\"We iterate over the files\"\"\"\n",
    "file_snap_list = []\n",
    "for file in File_list[1:]:\n",
    "    datafile = gdal.Open(file)\n",
    "\n",
    "    \"\"\"We create the destination folder and set ourselves inside\"\"\"\n",
    "    dataname = file.replace('.tif','')\n",
    "    dir = os.path.join(path, dataname + \"_mosaic\")\n",
    "    if not os.path.exists(dir):\n",
    "        os.mkdir(dir)\n",
    "    # mosaic_path = os.open(dataname + \"_mosaic\")\n",
    "    os.chdir(dir)\n",
    "\n",
    "    \"\"\"Here we get the size of the file\"\"\"\n",
    "    width = datafile.RasterXSize #columns\n",
    "    height = datafile.RasterYSize #rows\n",
    "    # define your tile size. It could be 256,512 or 1024. it depends on your scope\n",
    "    tilesize = 10240\n",
    "    \"\"\"Here we start with the tiling\"\"\"\n",
    "    for i in range(0, width, tilesize): #tilesize marks from where to where in width\n",
    "        for j in range(0, height, tilesize): #tilesize in height\n",
    "            #this is for the edge parts, so we don't get nodata from the borders\n",
    "            w = min(i+tilesize, width) - i\n",
    "            h = min(j+tilesize, height) - j\n",
    "            #we preapre the sentence\n",
    "            output_file = dataname + \"_\" + str(i) + \"_\" + str(j) + \".tif\"\n",
    "            file_snap_list.append(output_file)\n",
    "            try:\n",
    "                \"\"\"Set the parameters of the clipping\"\"\"\n",
    "                ds = gdal.Translate(output_file, datafile, format = 'GTiff', \n",
    "                # noData = -32768, \n",
    "                # outputType = gdal.GDT_Int16, \n",
    "                creationOptions = ['COMPRESS=DEFLATE', 'TILED=YES','COPY_SRC_OVERVIEWS=YES'], \n",
    "                srcWin = [str(i), str(j), str(w), str(h)])\n",
    "                # print(ds)\n",
    "            except RuntimeError:\n",
    "                print(\"The script got an error\")\n",
    "                sys.exit(1)\n",
    "    \"\"\"We have to close the file in order to proceed for the next parts\"\"\"\n",
    "    ds = None\n",
    "    "
   ]
  },
  {
   "cell_type": "code",
   "execution_count": null,
   "metadata": {},
   "outputs": [],
   "source": [
    "\"\"\"This is for testing, avoid it\"\"\"\n",
    "dir = os.path.join(r\"//akif.internal/public/z_resources/hydrosoil/hihydrosoil_ruben\",dataname + \"_mosaic\").replace(\"\\\\\",\"/\")\n",
    "current_path = os.getcwd()\n",
    "print(current_path)\n",
    "tiles=glob.glob(dir + '/*')\n",
    "print(tiles)\n",
    "for img in tiles:\n",
    "    print(img)"
   ]
  },
  {
   "cell_type": "code",
   "execution_count": null,
   "metadata": {},
   "outputs": [],
   "source": [
    "\"\"\"with this block, we delete tiles that include just nodata\"\"\"\n",
    "# os.chdir(r\"//akif.internal/public/z_resources/hydrosoil/hihydrosoil_ruben\")\n",
    "# dir = r\"Z:\\demo-geo-stack\\geoserver\\data\\im-data-soil\\isric-bdticm-m-250m-ll_mosaic_10240\"\n",
    "\n",
    "tiles=glob.glob(dir.replace(\"/\",\"\\\\\") + '/*')\n",
    "for img in tiles:\n",
    "    ds_filter = gdal.Open(img, gdal.GA_ReadOnly)\n",
    "    ds_array=ds_filter.ReadAsArray()\n",
    "    check=np.all(ds_array==0)\n",
    "    if check:\n",
    "        ds_filter = None #we have to close the file before deleting it\n",
    "        # print(img)\n",
    "        os.remove(img)\n",
    "        continue\n",
    "\n",
    "ds_array=None\n",
    "np_where_img=None"
   ]
  }
 ],
 "metadata": {
  "kernelspec": {
   "display_name": "rasterio_env",
   "language": "python",
   "name": "python3"
  },
  "language_info": {
   "codemirror_mode": {
    "name": "ipython",
    "version": 3
   },
   "file_extension": ".py",
   "mimetype": "text/x-python",
   "name": "python",
   "nbconvert_exporter": "python",
   "pygments_lexer": "ipython3",
   "version": "3.8.15"
  },
  "orig_nbformat": 4,
  "vscode": {
   "interpreter": {
    "hash": "29a267db8be7d3971bd41f29a427330e78fe3f80f39d92baa14f02164110da17"
   }
  }
 },
 "nbformat": 4,
 "nbformat_minor": 2
}
