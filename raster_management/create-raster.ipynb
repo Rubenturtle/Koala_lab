{
 "cells": [
  {
   "cell_type": "code",
   "execution_count": null,
   "metadata": {},
   "outputs": [],
   "source": [
    "from osgeo import gdal\n",
    "from numpy import random\n",
    "data = random.uniform(0, 10, (300, 200))\n",
    "driver = gdal.GetDriverByName('GTiff')\n",
    "ds = driver.Create('MyRaster.tif', 200, 300)\n",
    "band = ds.GetRasterBand(1)\n",
    "band.WriteArray(data)\n",
    "ds = band = None # save, close"
   ]
  }
 ],
 "metadata": {
  "kernelspec": {
   "display_name": "geoprocessing",
   "language": "python",
   "name": "python3"
  },
  "language_info": {
   "name": "python",
   "version": "3.9.12 | packaged by conda-forge | (main, Mar 24 2022, 23:18:12) [MSC v.1929 64 bit (AMD64)]"
  },
  "orig_nbformat": 4,
  "vscode": {
   "interpreter": {
    "hash": "ef1643838ba400d9e56910a4ebe1d7c2ddcc0867ba383b6e8e5b6e0b2b833d6e"
   }
  }
 },
 "nbformat": 4,
 "nbformat_minor": 2
}
